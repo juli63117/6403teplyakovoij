{
 "cells": [
  {
   "cell_type": "code",
   "execution_count": 6,
   "metadata": {},
   "outputs": [],
   "source": [
    "import matplotlib.pyplot as plt\n",
    "import pandas as pd\n",
    "from services.realtime_data_service import RealtimeMonitoringService\n",
    "import time"
   ]
  },
  {
   "cell_type": "code",
   "execution_count": 7,
   "metadata": {},
   "outputs": [],
   "source": [
    "# Создание и настройка сервиса\n",
    "service_id = 1\n",
    "kw_list = [\"data science\"]\n",
    "timeframe = 'today 12-m'\n",
    "logging_config_path = 'configs/logging.conf'"
   ]
  },
  {
   "cell_type": "code",
   "execution_count": 8,
   "metadata": {},
   "outputs": [],
   "source": [
    "# Инициализация сервиса мониторинга\n",
    "service = RealtimeMonitoringService(service_id=service_id, kw_list=kw_list, timeframe=timeframe, config_path=logging_config_path)"
   ]
  },
  {
   "cell_type": "code",
   "execution_count": null,
   "metadata": {},
   "outputs": [
    {
     "name": "stdout",
     "output_type": "stream",
     "text": [
      "2024-11-19 16:29:54 - service_1 - INFO - Service 1 started\n",
      "2024-11-19 16:29:54 - analysis - INFO - Analysis calculated differential\n",
      "2024-11-19 16:29:54 - analysis - INFO - Analysis calculated autocorrelation\n",
      "2024-11-19 16:29:54 - analysis - INFO - Analysis found maxima\n",
      "2024-11-19 16:29:54 - analysis - INFO - Analysis found minima\n",
      "2024-11-19 16:29:54 - service_1 - INFO - Service 1: Analysis results saved to file.\n",
      "2024-11-19 16:30:00 - analysis - INFO - Analysis calculated differential\n",
      "2024-11-19 16:30:00 - analysis - INFO - Analysis calculated autocorrelation\n",
      "2024-11-19 16:30:00 - analysis - INFO - Analysis found maxima\n",
      "2024-11-19 16:30:00 - analysis - INFO - Analysis found minima\n",
      "2024-11-19 16:30:00 - service_1 - INFO - Service 1: Analysis results saved to file.\n",
      "2024-11-19 16:30:05 - analysis - INFO - Analysis calculated differential\n",
      "2024-11-19 16:30:05 - analysis - INFO - Analysis calculated autocorrelation\n",
      "2024-11-19 16:30:05 - analysis - INFO - Analysis found maxima\n",
      "2024-11-19 16:30:05 - analysis - INFO - Analysis found minima\n",
      "2024-11-19 16:30:05 - service_1 - INFO - Service 1: Analysis results saved to file.\n"
     ]
    },
    {
     "name": "stdout",
     "output_type": "stream",
     "text": [
      "2024-11-19 16:30:11 - analysis - INFO - Analysis calculated differential\n",
      "2024-11-19 16:30:11 - analysis - INFO - Analysis calculated autocorrelation\n",
      "2024-11-19 16:30:11 - analysis - INFO - Analysis found maxima\n",
      "2024-11-19 16:30:11 - analysis - INFO - Analysis found minima\n",
      "2024-11-19 16:30:11 - service_1 - INFO - Service 1: Analysis results saved to file.\n",
      "2024-11-19 16:30:16 - analysis - INFO - Analysis calculated differential\n",
      "2024-11-19 16:30:16 - analysis - INFO - Analysis calculated autocorrelation\n",
      "2024-11-19 16:30:16 - analysis - INFO - Analysis found maxima\n",
      "2024-11-19 16:30:16 - analysis - INFO - Analysis found minima\n",
      "2024-11-19 16:30:16 - service_1 - INFO - Service 1: Analysis results saved to file.\n",
      "2024-11-19 16:30:21 - analysis - INFO - Analysis calculated differential\n",
      "2024-11-19 16:30:21 - analysis - INFO - Analysis calculated autocorrelation\n",
      "2024-11-19 16:30:21 - analysis - INFO - Analysis found maxima\n",
      "2024-11-19 16:30:21 - analysis - INFO - Analysis found minima\n",
      "2024-11-19 16:30:21 - service_1 - INFO - Service 1: Analysis results saved to file.\n",
      "2024-11-19 16:30:27 - analysis - INFO - Analysis calculated differential\n",
      "2024-11-19 16:30:27 - analysis - INFO - Analysis calculated autocorrelation\n",
      "2024-11-19 16:30:27 - analysis - INFO - Analysis found maxima\n",
      "2024-11-19 16:30:27 - analysis - INFO - Analysis found minima\n",
      "2024-11-19 16:30:27 - service_1 - INFO - Service 1: Analysis results saved to file.\n",
      "2024-11-19 16:30:33 - analysis - INFO - Analysis calculated differential\n",
      "2024-11-19 16:30:33 - analysis - INFO - Analysis calculated autocorrelation\n",
      "2024-11-19 16:30:33 - analysis - INFO - Analysis found maxima\n",
      "2024-11-19 16:30:33 - analysis - INFO - Analysis found minima\n",
      "2024-11-19 16:30:33 - service_1 - INFO - Service 1: Analysis results saved to file.\n",
      "2024-11-19 16:30:38 - analysis - INFO - Analysis calculated differential\n",
      "2024-11-19 16:30:38 - analysis - INFO - Analysis calculated autocorrelation\n",
      "2024-11-19 16:30:38 - analysis - INFO - Analysis found maxima\n",
      "2024-11-19 16:30:38 - analysis - INFO - Analysis found minima\n",
      "2024-11-19 16:30:38 - service_1 - INFO - Service 1: Analysis results saved to file.\n",
      "2024-11-19 16:30:44 - analysis - INFO - Analysis calculated differential\n",
      "2024-11-19 16:30:44 - analysis - INFO - Analysis calculated autocorrelation\n",
      "2024-11-19 16:30:44 - analysis - INFO - Analysis found maxima\n",
      "2024-11-19 16:30:44 - analysis - INFO - Analysis found minima\n",
      "2024-11-19 16:30:44 - service_1 - INFO - Service 1: Analysis results saved to file.\n",
      "2024-11-19 16:30:49 - analysis - INFO - Analysis calculated differential\n",
      "2024-11-19 16:30:49 - analysis - INFO - Analysis calculated autocorrelation\n",
      "2024-11-19 16:30:49 - analysis - INFO - Analysis found maxima\n",
      "2024-11-19 16:30:49 - analysis - INFO - Analysis found minima\n",
      "2024-11-19 16:30:49 - service_1 - INFO - Service 1: Analysis results saved to file.\n",
      "2024-11-19 16:30:55 - analysis - INFO - Analysis calculated differential\n",
      "2024-11-19 16:30:55 - analysis - INFO - Analysis calculated autocorrelation\n",
      "2024-11-19 16:30:55 - analysis - INFO - Analysis found maxima\n",
      "2024-11-19 16:30:55 - analysis - INFO - Analysis found minima\n",
      "2024-11-19 16:30:55 - service_1 - INFO - Service 1: Analysis results saved to file.\n",
      "2024-11-19 16:31:01 - analysis - INFO - Analysis calculated differential\n",
      "2024-11-19 16:31:01 - analysis - INFO - Analysis calculated autocorrelation\n",
      "2024-11-19 16:31:01 - analysis - INFO - Analysis found maxima\n",
      "2024-11-19 16:31:01 - analysis - INFO - Analysis found minima\n",
      "2024-11-19 16:31:01 - service_1 - INFO - Service 1: Analysis results saved to file.\n",
      "2024-11-19 16:31:08 - analysis - INFO - Analysis calculated differential\n",
      "2024-11-19 16:31:08 - analysis - INFO - Analysis calculated autocorrelation\n",
      "2024-11-19 16:31:08 - analysis - INFO - Analysis found maxima\n",
      "2024-11-19 16:31:08 - analysis - INFO - Analysis found minima\n",
      "2024-11-19 16:31:08 - service_1 - INFO - Service 1: Analysis results saved to file.\n",
      "2024-11-19 16:31:13 - analysis - INFO - Analysis calculated differential\n",
      "2024-11-19 16:31:13 - analysis - INFO - Analysis calculated autocorrelation\n",
      "2024-11-19 16:31:13 - analysis - INFO - Analysis found maxima\n",
      "2024-11-19 16:31:13 - analysis - INFO - Analysis found minima\n",
      "2024-11-19 16:31:13 - service_1 - INFO - Service 1: Analysis results saved to file.\n",
      "2024-11-19 16:31:18 - analysis - INFO - Analysis calculated differential\n",
      "2024-11-19 16:31:18 - analysis - INFO - Analysis calculated autocorrelation\n",
      "2024-11-19 16:31:18 - analysis - INFO - Analysis found maxima\n",
      "2024-11-19 16:31:18 - analysis - INFO - Analysis found minima\n",
      "2024-11-19 16:31:18 - service_1 - INFO - Service 1: Analysis results saved to file.\n",
      "2024-11-19 16:31:24 - analysis - INFO - Analysis calculated differential\n",
      "2024-11-19 16:31:24 - analysis - INFO - Analysis calculated autocorrelation\n",
      "2024-11-19 16:31:24 - analysis - INFO - Analysis found maxima\n",
      "2024-11-19 16:31:24 - analysis - INFO - Analysis found minima\n",
      "2024-11-19 16:31:24 - service_1 - INFO - Service 1: Analysis results saved to file.\n",
      "2024-11-19 16:31:29 - analysis - INFO - Analysis calculated differential\n",
      "2024-11-19 16:31:30 - analysis - INFO - Analysis calculated autocorrelation\n",
      "2024-11-19 16:31:30 - analysis - INFO - Analysis found maxima\n",
      "2024-11-19 16:31:30 - analysis - INFO - Analysis found minima\n",
      "2024-11-19 16:31:30 - service_1 - INFO - Service 1: Analysis results saved to file.\n",
      "2024-11-19 16:31:35 - analysis - INFO - Analysis calculated differential\n",
      "2024-11-19 16:31:35 - analysis - INFO - Analysis calculated autocorrelation\n",
      "2024-11-19 16:31:35 - analysis - INFO - Analysis found maxima\n",
      "2024-11-19 16:31:35 - analysis - INFO - Analysis found minima\n",
      "2024-11-19 16:31:35 - service_1 - INFO - Service 1: Analysis results saved to file.\n",
      "2024-11-19 16:31:41 - analysis - INFO - Analysis calculated differential\n",
      "2024-11-19 16:31:41 - analysis - INFO - Analysis calculated autocorrelation\n",
      "2024-11-19 16:31:41 - analysis - INFO - Analysis found maxima\n",
      "2024-11-19 16:31:41 - analysis - INFO - Analysis found minima\n",
      "2024-11-19 16:31:41 - service_1 - INFO - Service 1: Analysis results saved to file.\n"
     ]
    }
   ],
   "source": [
    "# Запуск сервиса\n",
    "service.start()\n",
    "time.sleep(15)"
   ]
  },
  {
   "cell_type": "code",
   "execution_count": 10,
   "metadata": {},
   "outputs": [
    {
     "name": "stdout",
     "output_type": "stream",
     "text": [
      "2024-11-19 16:31:43 - service_1 - INFO - Service 1 stopping\n",
      "2024-11-19 16:31:46 - service_1 - INFO - Service 1 stopped\n"
     ]
    }
   ],
   "source": [
    "# Остановка сервиса\n",
    "service.stop()"
   ]
  }
 ],
 "metadata": {
  "kernelspec": {
   "display_name": ".venv",
   "language": "python",
   "name": "python3"
  },
  "language_info": {
   "codemirror_mode": {
    "name": "ipython",
    "version": 3
   },
   "file_extension": ".py",
   "mimetype": "text/x-python",
   "name": "python",
   "nbconvert_exporter": "python",
   "pygments_lexer": "ipython3",
   "version": "3.12.7"
  }
 },
 "nbformat": 4,
 "nbformat_minor": 4
}
